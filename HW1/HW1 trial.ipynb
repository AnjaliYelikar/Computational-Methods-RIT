{
 "cells": [
  {
   "cell_type": "markdown",
   "metadata": {},
   "source": [
    "#PROBLEM 1\n",
    "\n",
    "#MINE\n",
    "\n",
    "import numpy as np\n",
    "import scipy as si\n",
    "import matplotlib.pyplot as plt\n",
    "\n",
    "#def f():\n",
    "    #print(\"The given function is\")   \n",
    "#f()\n",
    "\n",
    "# Defining the function/expression here\n",
    "\n",
    "f = lambda x: (x**2) - 45. #+ (x**3)   \n",
    "#f(2)\n",
    "\n",
    "def BisectionMethod(f,a,b,threshold):\n",
    "    # This function finds the root of a function 'f' within the given limits 'a' and 'b' \n",
    "    # till it reaches the set convergence criterion 'threshold'.\n",
    "    \n",
    "    \n",
    "    error=1.\n",
    "    i=0.\n",
    "    while (error >= threshold):\n",
    "        r = (a+b)/2.\n",
    "        if (f(a)*f(r)) <= 0.:\n",
    "            b=r\n",
    "            f(b)==f(r)\n",
    "        else:\n",
    "            a=r\n",
    "            f(a)==f(r)\n",
    "        error=abs((b-a)/r)\n",
    "        i=i+1\n",
    "        print(i,r,f(r),error)\n",
    "        plt.scatter(i,r)\n",
    "        plt.xlabel('iteration')\n",
    "        plt.ylabel('root')\n",
    "    print(\"The root is=\", r)\n",
    "        \n",
    "#print(len(r))\n",
    "    \n",
    "BisectionMethod(f,6.,7.,10.**-7)    \n",
    "print\n",
    "\n",
    "y=np.sqrt(45.)\n",
    "print(\"root of 45 =\", y)"
   ]
  },
  {
   "cell_type": "code",
   "execution_count": 2,
   "metadata": {},
   "outputs": [
    {
     "ename": "SyntaxError",
     "evalue": "invalid syntax (<ipython-input-2-7470e0c94422>, line 15)",
     "output_type": "error",
     "traceback": [
      "\u001b[0;36m  File \u001b[0;32m\"<ipython-input-2-7470e0c94422>\"\u001b[0;36m, line \u001b[0;32m15\u001b[0m\n\u001b[0;31m    for i in range(1,n)\u001b[0m\n\u001b[0m                       ^\u001b[0m\n\u001b[0;31mSyntaxError\u001b[0m\u001b[0;31m:\u001b[0m invalid syntax\n"
     ]
    }
   ],
   "source": [
    "#MINE\n",
    "\n",
    "import numpy as np\n",
    "import scipy as si\n",
    "\n",
    "f = lambda x: x**2 - 45. #(x**3.) +  \n",
    "#f(2)\n",
    "\n",
    "threshold=10.**-4.    # convergence criterion\n",
    "a=6.                  # starting point\n",
    "b=7.                  # end point\n",
    "n=25\n",
    "\n",
    "def Bisection(f,a,b,threshold,n):\n",
    "    for i in range(1,n)\n",
    "        r_n = (a+b)/2.\n",
    "        if f(a)*f(r_n) <= 0.:\n",
    "            b=r_n\n",
    "            f(b)==f(r_n)\n",
    "        else:\n",
    "            a=r_n\n",
    "            f(a)==f(r_n)\n",
    "        \n",
    "    print(\"root =\", r)\n",
    "\n",
    "Bisection(f,a,b,threshold,n)"
   ]
  },
  {
   "cell_type": "code",
   "execution_count": 3,
   "metadata": {},
   "outputs": [
    {
     "data": {
      "text/plain": [
       "6.7082037925720215"
      ]
     },
     "execution_count": 3,
     "metadata": {},
     "output_type": "execute_result"
    }
   ],
   "source": [
    " # CORRECT ONE!!\n",
    "\n",
    "\n",
    "\n",
    "def bisection(f,a,b,N):\n",
    "    if f(a)*f(b) >= 0:\n",
    "        print(\"Bisection method fails.\")\n",
    "        return None\n",
    "    a_n = a\n",
    "    b_n = b\n",
    "    for n in range(1,N+1):\n",
    "        m_n = (a_n + b_n)/2\n",
    "        f_m_n = f(m_n)\n",
    "        if f(a_n)*f_m_n < 0:\n",
    "            a_n = a_n\n",
    "            b_n = m_n\n",
    "        elif f(b_n)*f_m_n < 0:\n",
    "            a_n = m_n\n",
    "            b_n = b_n\n",
    "        elif f_m_n == 0:\n",
    "            print(\"Found exact solution.\")\n",
    "            return m_n\n",
    "        else:\n",
    "            print(\"Bisection method fails.\")\n",
    "            return None\n",
    "    return (a_n + b_n)/2\n",
    "\n",
    "f = lambda x: (x**2) - 45.\n",
    "\n",
    "bisection(f,6.,7.,20)"
   ]
  },
  {
   "cell_type": "markdown",
   "metadata": {},
   "source": []
  },
  {
   "cell_type": "code",
   "execution_count": 4,
   "metadata": {},
   "outputs": [
    {
     "data": {
      "text/plain": [
       "6.7082037925720215"
      ]
     },
     "execution_count": 4,
     "metadata": {},
     "output_type": "execute_result"
    }
   ],
   "source": [
    "# MINE\n",
    "\n",
    "def Bisection(f,a,b,N):\n",
    "    a_n = a\n",
    "    b_n = b\n",
    "    for n in range(1,N+1):\n",
    "        m_n = (a_n + b_n)/2\n",
    "        f_m_n = f(m_n)\n",
    "        if f(a_n)*f_m_n < 0:\n",
    "            a_n = a_n\n",
    "            b_n = m_n\n",
    "        elif f(b_n)*f_m_n < 0:\n",
    "            a_n = m_n\n",
    "            b_n = b_n\n",
    "        elif f_m_n == 0:\n",
    "            print(\"Found exact solution.\")\n",
    "            return m_n\n",
    "    print(\"root =\", (a_n + b_n)/2)\n",
    "\n",
    "f = lambda x: (x**2) - 45.\n",
    "\n",
    "bisection(f,6.,7.,20)"
   ]
  },
  {
   "cell_type": "code",
   "execution_count": 5,
   "metadata": {},
   "outputs": [
    {
     "name": "stdout",
     "output_type": "stream",
     "text": [
      "6.7082039325\n"
     ]
    }
   ],
   "source": [
    "from scipy import optimize\n",
    "\n",
    "#def f(x):\n",
    "    #return (x**2. - 45.)\n",
    "\n",
    "f = lambda x: (x**2) - 45.\n",
    "\n",
    "root = optimize.bisect(f, 6., 7.)\n",
    "print(root)        "
   ]
  },
  {
   "cell_type": "code",
   "execution_count": null,
   "metadata": {},
   "outputs": [],
   "source": [
    "#NEWTON METHOD\n",
    "\n",
    "import matplotlib.pyplot as plt\n",
    "from sympy import *\n",
    "x=symbols(\"x\")\n",
    "\n",
    "f = lambda x: (x**2) - 45.\n",
    "df = lambdify(x,diff(f(x),x))\n",
    "#print(df(2.))\n",
    "\n",
    "def NewtonMethod(f,df,a,threshold):\n",
    "    error=1.\n",
    "    i=0.\n",
    "    while(error >= threshold):\n",
    "        a = a- (f(a)/df(a))\n",
    "        error=abs((f(a)/df(a))/a)\n",
    "        i=i+1\n",
    "        print(i,a,f(a),error)\n",
    "        plt.scatter(i,a)\n",
    "        plt.xlabel('iteration')\n",
    "        plt.ylabel('root')\n",
    "    print(\"The root is =\", a)\n",
    "        \n",
    "NewtonMethod(f,df,7.,10.**-16.5)  "
   ]
  },
  {
   "cell_type": "code",
   "execution_count": 47,
   "metadata": {},
   "outputs": [],
   "source": [
    "#SECANT METHOD\n",
    "\n",
    "f = lambda x: (x**2) - 45.\n",
    "\n",
    "def SecantMethod(f,a,b,threshold):\n",
    "    error=1.\n",
    "    i=0\n",
    "    while(error >= threshold):\n",
    "        r = b - f(b)*((b-a)/(f(b)-f(a)))\n",
    "        error=abs()"
   ]
  },
  {
   "cell_type": "code",
   "execution_count": 48,
   "metadata": {},
   "outputs": [
    {
     "name": "stdout",
     "output_type": "stream",
     "text": [
      "(1.0, 0.96875, 0.158690176322418, 0.03177003731464617)\n",
      "(2.0, 0.9995272236485635, 0.0023644405508163047, 0.0004728882159120204)\n",
      "(3.0, 0.9999998882941101, 5.585294804433261e-07, 1.117058960886666e-07)\n",
      "(4.0, 0.9999999999999938, 3.108624468950438e-14, 6.217248937900877e-15)\n",
      "('The root is =', 0.9999999999999938)\n",
      "\n",
      "(0.5, 3.0)\n",
      "1.0\n",
      "(0.75, 1.4000000000000004)\n",
      "2.0\n",
      "(0.875, 0.663716814159292)\n",
      "3.0\n",
      "(0.9375, 0.32224532224532254)\n",
      "4.0\n",
      "(0.96875, 0.158690176322418)\n",
      "5.0\n",
      "(0.984375, 0.07873527588344675)\n",
      "6.0\n",
      "(0.9921875, 0.03921508319749023)\n",
      "7.0\n",
      "(0.99609375, 0.0195693966804793)\n",
      "8.0\n",
      "(0.998046875, 0.009775161724938641)\n",
      "9.0\n",
      "(0.9990234375, 0.004885196684653259)\n",
      "10.0\n",
      "(0.99951171875, 0.0024420022963766996)\n",
      "11.0\n",
      "(0.999755859375, 0.0012208521366074976)\n",
      "12.0\n",
      "(0.9998779296875, 0.0006103888154029846)\n",
      "13.0\n",
      "(0.99993896484375, 0.00030518509447574615)\n",
      "14.0\n",
      "(0.999969482421875, 0.00015259021893143654)\n",
      "15.0\n",
      "(0.9999847412109375, 7.629452738910913e-05)\n",
      "16.0\n",
      "(0.9999923706054688, 3.8147118175402284e-05)\n",
      "17.0\n",
      "(0.9999961853027344, 1.907352270791307e-05)\n",
      "18.0\n",
      "(0.9999980926513672, 9.536752259009518e-06)\n",
      "19.0\n",
      "(0.9999990463256836, 4.7683738557680044e-06)\n",
      "20.0\n",
      "(0.9999995231628418, 2.3841863594498136e-06)\n",
      "21.0\n",
      "(0.9999997615814209, 1.1920930376163597e-06)\n",
      "22.0\n",
      "(0.9999998807907104, 5.96046483281043e-07)\n",
      "23.0\n",
      "(0.9999999403953552, 2.980232327587373e-07)\n",
      "24.0\n",
      "(0.9999999701976776, 1.490116137148334e-07)\n",
      "25.0\n",
      "(0.9999999850988388, 7.450580596923828e-08)\n",
      "26.0\n",
      "(0.9999999925494194, 3.725290298461914e-08)\n",
      "27.0\n",
      "(0.9999999962747097, 1.862645149230957e-08)\n",
      "28.0\n",
      "(0.9999999981373549, 9.313225746154785e-09)\n",
      "29.0\n",
      "(0.9999999990686774, 4.6566128730773926e-09)\n",
      "30.0\n",
      "(0.9999999995343387, 2.3283064365386963e-09)\n",
      "31.0\n",
      "(0.9999999997671694, 1.1641532182693481e-09)\n",
      "32.0\n",
      "(0.9999999998835847, 5.820766091346741e-10)\n",
      "33.0\n",
      "(0.9999999999417923, 2.9103830456733704e-10)\n",
      "34.0\n"
     ]
    }
   ],
   "source": [
    "# PROBLEM 2\n",
    "\n",
    "import matplotlib.pyplot as plt\n",
    "\n",
    "N_0 = 10.\n",
    "r_c = 1.\n",
    "\n",
    "N_e = lambda x: N_0*(1.+(x/r_c)**2)**(-1/2) - (N_0/2.)\n",
    "\n",
    "f = N_e\n",
    "df = lambdify(x,diff(f(x),x))\n",
    "#print(df(2.))\n",
    "\n",
    "NewtonMethod(f,df,0.5,10.**-10)\n",
    "print\n",
    "BisectionMethod(f,0.,1.,10.**-10)\n",
    "\n"
   ]
  },
  {
   "cell_type": "code",
   "execution_count": 49,
   "metadata": {},
   "outputs": [
    {
     "data": {
      "image/png": "[encoded data removed]",
      "text/plain": [
       "<Figure size 432x288 with 1 Axes>"
      ]
     },
     "metadata": {
      "needs_background": "light"
     },
     "output_type": "display_data"
    }
   ],
   "source": [
    "import matplotlib.pyplot as plt\n",
    "import numpy as np\n",
    "\n",
    "N_0 = 100.\n",
    "r_c = 1.\n",
    "\n",
    "N_e = lambda x: N_0*(1.+(x/r_c)**2)**(-1/2) - (N_0/2.)\n",
    "\n",
    "x = np.linspace(-4.,4.,50)\n",
    "#print(x)\n",
    "#print(N_e(x))\n",
    "\n",
    "plt.plot(x,N_e(x))\n",
    "plt.xlabel('radius')\n",
    "plt.ylabel('Column density')\n",
    "plt.show()"
   ]
  },
  {
   "cell_type": "code",
   "execution_count": null,
   "metadata": {},
   "outputs": [],
   "source": [
    "# PROBLEM 3\n",
    "\n"
   ]
  },
  {
   "cell_type": "code",
   "execution_count": 54,
   "metadata": {},
   "outputs": [
    {
     "name": "stdout",
     "output_type": "stream",
     "text": [
      "(1.0, 1.1190080000000007e+26, -1.543e+16, 1.3987600000000014e+25)\n",
      "(2.0, -1.5652236300800025e+51, -1.543e+16, 2.7367152560133833e+75)\n"
     ]
    },
    {
     "ename": "OverflowError",
     "evalue": "(34, 'Result too large')",
     "output_type": "error",
     "traceback": [
      "\u001b[0;31m---------------------------------------------------------------------------\u001b[0m",
      "\u001b[0;31mOverflowError\u001b[0m                             Traceback (most recent call last)",
      "\u001b[0;32m<ipython-input-54-f381493c70e2>\u001b[0m in \u001b[0;36m<module>\u001b[0;34m()\u001b[0m\n\u001b[1;32m     10\u001b[0m \u001b[0;31m#print(df(2.))\u001b[0m\u001b[0;34m\u001b[0m\u001b[0;34m\u001b[0m\u001b[0m\n\u001b[1;32m     11\u001b[0m \u001b[0;34m\u001b[0m\u001b[0m\n\u001b[0;32m---> 12\u001b[0;31m \u001b[0mNewtonMethod\u001b[0m\u001b[0;34m(\u001b[0m\u001b[0mf\u001b[0m\u001b[0;34m,\u001b[0m\u001b[0mdf\u001b[0m\u001b[0;34m,\u001b[0m\u001b[0;36m0.5\u001b[0m\u001b[0;34m,\u001b[0m\u001b[0;36m10.\u001b[0m\u001b[0;34m**\u001b[0m\u001b[0;34m-\u001b[0m\u001b[0;36m1\u001b[0m\u001b[0;34m)\u001b[0m\u001b[0;34m\u001b[0m\u001b[0m\n\u001b[0m\u001b[1;32m     13\u001b[0m \u001b[0;32mprint\u001b[0m\u001b[0;34m\u001b[0m\u001b[0m\n",
      "\u001b[0;32m<ipython-input-51-83b3405c2bbd>\u001b[0m in \u001b[0;36mNewtonMethod\u001b[0;34m(f, df, a, threshold)\u001b[0m\n\u001b[1;32m     13\u001b[0m     \u001b[0;32mwhile\u001b[0m\u001b[0;34m(\u001b[0m\u001b[0merror\u001b[0m \u001b[0;34m>=\u001b[0m \u001b[0mthreshold\u001b[0m\u001b[0;34m)\u001b[0m\u001b[0;34m:\u001b[0m\u001b[0;34m\u001b[0m\u001b[0m\n\u001b[1;32m     14\u001b[0m         \u001b[0ma\u001b[0m \u001b[0;34m=\u001b[0m \u001b[0ma\u001b[0m\u001b[0;34m-\u001b[0m \u001b[0;34m(\u001b[0m\u001b[0mf\u001b[0m\u001b[0;34m(\u001b[0m\u001b[0ma\u001b[0m\u001b[0;34m)\u001b[0m\u001b[0;34m/\u001b[0m\u001b[0mdf\u001b[0m\u001b[0;34m(\u001b[0m\u001b[0ma\u001b[0m\u001b[0;34m)\u001b[0m\u001b[0;34m)\u001b[0m\u001b[0;34m\u001b[0m\u001b[0m\n\u001b[0;32m---> 15\u001b[0;31m         \u001b[0merror\u001b[0m\u001b[0;34m=\u001b[0m\u001b[0mabs\u001b[0m\u001b[0;34m(\u001b[0m\u001b[0;34m(\u001b[0m\u001b[0mf\u001b[0m\u001b[0;34m(\u001b[0m\u001b[0ma\u001b[0m\u001b[0;34m)\u001b[0m\u001b[0;34m/\u001b[0m\u001b[0mdf\u001b[0m\u001b[0;34m(\u001b[0m\u001b[0ma\u001b[0m\u001b[0;34m)\u001b[0m\u001b[0;34m)\u001b[0m\u001b[0;34m/\u001b[0m\u001b[0ma\u001b[0m\u001b[0;34m)\u001b[0m\u001b[0;34m\u001b[0m\u001b[0m\n\u001b[0m\u001b[1;32m     16\u001b[0m         \u001b[0mi\u001b[0m\u001b[0;34m=\u001b[0m\u001b[0mi\u001b[0m\u001b[0;34m+\u001b[0m\u001b[0;36m1\u001b[0m\u001b[0;34m\u001b[0m\u001b[0m\n\u001b[1;32m     17\u001b[0m         \u001b[0;32mprint\u001b[0m\u001b[0;34m(\u001b[0m\u001b[0mi\u001b[0m\u001b[0;34m,\u001b[0m\u001b[0ma\u001b[0m\u001b[0;34m,\u001b[0m\u001b[0mf\u001b[0m\u001b[0;34m(\u001b[0m\u001b[0ma\u001b[0m\u001b[0;34m)\u001b[0m\u001b[0;34m,\u001b[0m\u001b[0merror\u001b[0m\u001b[0;34m)\u001b[0m\u001b[0;34m\u001b[0m\u001b[0m\n",
      "\u001b[0;32m<lambdifygenerated-23>\u001b[0m in \u001b[0;36m_lambdifygenerated\u001b[0;34m(x)\u001b[0m\n\u001b[1;32m      1\u001b[0m \u001b[0;32mdef\u001b[0m \u001b[0m_lambdifygenerated\u001b[0m\u001b[0;34m(\u001b[0m\u001b[0mx\u001b[0m\u001b[0;34m)\u001b[0m\u001b[0;34m:\u001b[0m\u001b[0;34m\u001b[0m\u001b[0m\n\u001b[0;32m----> 2\u001b[0;31m     \u001b[0;32mreturn\u001b[0m \u001b[0;34m(\u001b[0m\u001b[0;34m-\u001b[0m\u001b[0;36m2.75779976550659e-10\u001b[0m\u001b[0;34m*\u001b[0m\u001b[0mx\u001b[0m\u001b[0;34m/\u001b[0m\u001b[0;34m(\u001b[0m\u001b[0;36m4.46824330120964e-27\u001b[0m\u001b[0;34m*\u001b[0m\u001b[0mx\u001b[0m\u001b[0;34m**\u001b[0m\u001b[0;36m2\u001b[0m \u001b[0;34m+\u001b[0m \u001b[0;36m1.0\u001b[0m\u001b[0;34m)\u001b[0m\u001b[0;34m**\u001b[0m\u001b[0;36m2\u001b[0m\u001b[0;34m)\u001b[0m\u001b[0;34m\u001b[0m\u001b[0m\n\u001b[0m",
      "\u001b[0;31mOverflowError\u001b[0m: (34, 'Result too large')"
     ]
    }
   ],
   "source": [
    "# PROBLEM 4\n",
    "\n",
    "N_0 = 0.01*3.086*10.**18   # Units : cm^(-2), 0.01 pc cm^(-3)\n",
    "r_c = 1.496*10.**13        # Units : cm, 1 AU\n",
    "\n",
    "N_e = lambda x: N_0*(1.+(x/r_c)**2)**(-1/2) - (N_0/2.)\n",
    "\n",
    "f = N_e\n",
    "df = lambdify(x,diff(f(x),x))\n",
    "#print(df(2.))\n",
    "\n",
    "NewtonMethod(f,df,0.5,10.**-1)\n",
    "print"
   ]
  },
  {
   "cell_type": "code",
   "execution_count": null,
   "metadata": {},
   "outputs": [],
   "source": []
  }
 ],
 "metadata": {
  "kernelspec": {
   "display_name": "Python 3",
   "language": "python",
   "name": "python3"
  },
  "language_info": {
   "codemirror_mode": {
    "name": "ipython",
    "version": 2
   },
   "file_extension": ".py",
   "mimetype": "text/x-python",
   "name": "python",
   "nbconvert_exporter": "python",
   "pygments_lexer": "ipython2",
   "version": "2.7.16"
  }
 },
 "nbformat": 4,
 "nbformat_minor": 2
}
